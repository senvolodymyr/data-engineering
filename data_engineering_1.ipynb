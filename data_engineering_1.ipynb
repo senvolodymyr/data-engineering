{
  "nbformat": 4,
  "nbformat_minor": 0,
  "metadata": {
    "colab": {
      "provenance": [],
      "mount_file_id": "1m1FYD4AL_-FO7EUpeYXtG8GCTA_dmgxo",
      "authorship_tag": "ABX9TyOOEDK9D3vkol8gBMoETSj4",
      "include_colab_link": true
    },
    "kernelspec": {
      "name": "python3",
      "display_name": "Python 3"
    },
    "language_info": {
      "name": "python"
    }
  },
  "cells": [
    {
      "cell_type": "markdown",
      "metadata": {
        "id": "view-in-github",
        "colab_type": "text"
      },
      "source": [
        "<a href=\"https://colab.research.google.com/github/senvolodymyr/data-engineering/blob/main/data_engineering_1.ipynb\" target=\"_parent\"><img src=\"https://colab.research.google.com/assets/colab-badge.svg\" alt=\"Open In Colab\"/></a>"
      ]
    },
    {
      "cell_type": "code",
      "source": [
        "from google.colab import files"
      ],
      "metadata": {
        "id": "gnqoZJDCXfmT"
      },
      "execution_count": 20,
      "outputs": []
    },
    {
      "cell_type": "code",
      "execution_count": null,
      "metadata": {
        "id": "e1rj7oGnaY7h"
      },
      "outputs": [],
      "source": [
        "import pandas as pd"
      ]
    },
    {
      "cell_type": "code",
      "source": [
        "users = pd.read_csv('/content/drive/MyDrive/Data Engineering/users.csv')"
      ],
      "metadata": {
        "id": "QTlqn312e4FY"
      },
      "execution_count": null,
      "outputs": []
    },
    {
      "cell_type": "code",
      "source": [
        "users_1nf = users.assign(Interests=users['Interests'].str.split(',')).explode('Interests')"
      ],
      "metadata": {
        "id": "ZXX7cHFpSrwG"
      },
      "execution_count": null,
      "outputs": []
    },
    {
      "cell_type": "code",
      "source": [
        "people = users_1nf[['UserID', 'Age', 'Gender']].drop_duplicates()"
      ],
      "metadata": {
        "id": "0dEGBL6AT633"
      },
      "execution_count": null,
      "outputs": []
    },
    {
      "cell_type": "code",
      "source": [
        "users = users_1nf.drop(columns=['Age', 'Gender'])"
      ],
      "metadata": {
        "id": "RBRRmD_vUNt0"
      },
      "execution_count": null,
      "outputs": []
    },
    {
      "cell_type": "code",
      "source": [
        "users_csv = users.to_csv('users.csv', index=False)"
      ],
      "metadata": {
        "id": "xsIqe61NXJjs"
      },
      "execution_count": 19,
      "outputs": []
    },
    {
      "cell_type": "code",
      "source": [
        "people_csv = people.to_csv('people.csv', index=False)"
      ],
      "metadata": {
        "id": "3RHICOryXNWr"
      },
      "execution_count": 18,
      "outputs": []
    },
    {
      "cell_type": "code",
      "source": [
        "files.download('users.csv')"
      ],
      "metadata": {
        "collapsed": true,
        "id": "fYvDX3shXhSH"
      },
      "execution_count": null,
      "outputs": []
    },
    {
      "cell_type": "code",
      "source": [
        "files.download('people.csv')"
      ],
      "metadata": {
        "collapsed": true,
        "id": "CF0hoo3hXjb2"
      },
      "execution_count": null,
      "outputs": []
    }
  ]
}